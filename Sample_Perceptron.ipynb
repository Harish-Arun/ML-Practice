{
  "nbformat": 4,
  "nbformat_minor": 0,
  "metadata": {
    "colab": {
      "provenance": [],
      "authorship_tag": "ABX9TyNNBajs821DCHC1uJ/bOHka",
      "include_colab_link": true
    },
    "kernelspec": {
      "name": "python3",
      "display_name": "Python 3"
    },
    "language_info": {
      "name": "python"
    }
  },
  "cells": [
    {
      "cell_type": "markdown",
      "metadata": {
        "id": "view-in-github",
        "colab_type": "text"
      },
      "source": [
        "<a href=\"https://colab.research.google.com/github/Harish-Arun/ML-Practice/blob/main/Sample_Perceptron.ipynb\" target=\"_parent\"><img src=\"https://colab.research.google.com/assets/colab-badge.svg\" alt=\"Open In Colab\"/></a>"
      ]
    },
    {
      "cell_type": "code",
      "execution_count": 8,
      "metadata": {
        "id": "DbzODNOzHhcY"
      },
      "outputs": [],
      "source": [
        "from sklearn.neural_network import MLPClassifier\n",
        "from sklearn import datasets\n",
        "import matplotlib.pyplot as plt\n",
        "import pandas as pd\n",
        "from sklearn.decomposition import PCA"
      ]
    },
    {
      "cell_type": "code",
      "source": [
        "iris=datasets.load_iris()\n",
        "X=iris.data\n",
        "Y=iris.target"
      ],
      "metadata": {
        "id": "dMYu3rgbMbhl"
      },
      "execution_count": 5,
      "outputs": []
    },
    {
      "cell_type": "code",
      "source": [
        "print(X.shape,Y.shape)"
      ],
      "metadata": {
        "colab": {
          "base_uri": "https://localhost:8080/"
        },
        "id": "tNyioD-HMpgU",
        "outputId": "72dc4b2f-f15d-4c7a-bbb8-7310f73798f0"
      },
      "execution_count": 6,
      "outputs": [
        {
          "output_type": "stream",
          "name": "stdout",
          "text": [
            "(150, 4) (150,)\n"
          ]
        }
      ]
    },
    {
      "cell_type": "code",
      "source": [
        "#dimensionality reduction for SLP\n",
        "pca=PCA(n_components=2)\n",
        "X_slp=pca.fit_transform(X)\n",
        "X_slp.shape"
      ],
      "metadata": {
        "colab": {
          "base_uri": "https://localhost:8080/"
        },
        "id": "qfCDITZRMyIT",
        "outputId": "fd7e1aa1-9f7e-4ab8-d6e8-fe5a03920a10"
      },
      "execution_count": 11,
      "outputs": [
        {
          "output_type": "execute_result",
          "data": {
            "text/plain": [
              "(150, 2)"
            ]
          },
          "metadata": {},
          "execution_count": 11
        }
      ]
    },
    {
      "cell_type": "code",
      "source": [
        "from sklearn.model_selection import train_test_split\n",
        "X_train,X_test,Y_train,Y_test=train_test_split(X,Y,train_size=0.2)\n",
        "X_Strain,X_Stest,Y_Strain,Y_Stest=train_test_split(X_slp,Y,test_size=0.2)"
      ],
      "metadata": {
        "id": "Ev599FhYNXbk"
      },
      "execution_count": 15,
      "outputs": []
    },
    {
      "cell_type": "code",
      "source": [
        "#uses relu and softmax\n",
        "mlp=MLPClassifier(hidden_layer_sizes=(10,10),max_iter=3000)\n",
        "slp=MLPClassifier(hidden_layer_sizes=(),max_iter=3000)\n",
        "\n",
        "mlp.fit(X_test,Y_test)\n",
        "slp.fit(X_Stest,Y_Stest)\n",
        "\n",
        "print(\"MLP Accuracy \",mlp.score(X_test,Y_test))\n",
        "print(\"SLP Accuracy \",slp.score(X_Stest,Y_Stest))"
      ],
      "metadata": {
        "colab": {
          "base_uri": "https://localhost:8080/"
        },
        "id": "s4zqS3rnPTU7",
        "outputId": "b02eeb50-ea26-41d0-a1b4-18aa9c3ec8c8"
      },
      "execution_count": 18,
      "outputs": [
        {
          "output_type": "stream",
          "name": "stdout",
          "text": [
            "MLP Accuracy  0.975\n",
            "SLP Accuracy  0.9\n"
          ]
        }
      ]
    },
    {
      "cell_type": "code",
      "source": [
        "pred=mlp.predict(X_test)\n",
        "preds=slp.predict(X_Stest)"
      ],
      "metadata": {
        "id": "VUNybDFwQhxr"
      },
      "execution_count": 20,
      "outputs": []
    },
    {
      "cell_type": "code",
      "source": [
        "from sklearn.metrics import accuracy_score,classification_report,confusion_matrix\n",
        "#MLP\n",
        "print(\"Accuracy Score \",accuracy_score(Y_test,pred))\n",
        "print(\"Classification Report \\n\",classification_report(Y_test,pred))\n",
        "print(\"Confusion Matrix \\n\",confusion_matrix(Y_test,pred))\n",
        "\n",
        "#SLP\n",
        "print(\"Accuracy Score \",accuracy_score(Y_Stest,preds))\n",
        "print(\"Classification Report \\n\",classification_report(Y_Stest,preds))\n",
        "print(\"Confusion Matrix \\n\",confusion_matrix(Y_Stest,preds))"
      ],
      "metadata": {
        "colab": {
          "base_uri": "https://localhost:8080/"
        },
        "id": "-VT4X5wHRBaD",
        "outputId": "9bf9f69c-60a4-4e9f-c1f0-c37be2906e4d"
      },
      "execution_count": 24,
      "outputs": [
        {
          "output_type": "stream",
          "name": "stdout",
          "text": [
            "Accuracy Score  0.975\n",
            "Classification Report \n",
            "               precision    recall  f1-score   support\n",
            "\n",
            "           0       1.00      1.00      1.00        39\n",
            "           1       0.97      0.95      0.96        40\n",
            "           2       0.95      0.98      0.96        41\n",
            "\n",
            "    accuracy                           0.97       120\n",
            "   macro avg       0.98      0.98      0.98       120\n",
            "weighted avg       0.98      0.97      0.97       120\n",
            "\n",
            "Confusion Matrix \n",
            " [[39  0  0]\n",
            " [ 0 38  2]\n",
            " [ 0  1 40]]\n",
            "Accuracy Score  0.9\n",
            "Classification Report \n",
            "               precision    recall  f1-score   support\n",
            "\n",
            "           0       1.00      1.00      1.00         9\n",
            "           1       0.87      0.93      0.90        14\n",
            "           2       0.83      0.71      0.77         7\n",
            "\n",
            "    accuracy                           0.90        30\n",
            "   macro avg       0.90      0.88      0.89        30\n",
            "weighted avg       0.90      0.90      0.90        30\n",
            "\n",
            "Confusion Matrix \n",
            " [[ 9  0  0]\n",
            " [ 0 13  1]\n",
            " [ 0  2  5]]\n"
          ]
        }
      ]
    },
    {
      "cell_type": "code",
      "source": [],
      "metadata": {
        "id": "QA5-EiOURbsD"
      },
      "execution_count": null,
      "outputs": []
    }
  ]
}