{
  "nbformat": 4,
  "nbformat_minor": 0,
  "metadata": {
    "colab": {
      "provenance": [],
      "authorship_tag": "ABX9TyMYl6ZKWstCLoGNh2VMFSe1",
      "include_colab_link": true
    },
    "kernelspec": {
      "name": "python3",
      "display_name": "Python 3"
    },
    "language_info": {
      "name": "python"
    }
  },
  "cells": [
    {
      "cell_type": "markdown",
      "metadata": {
        "id": "view-in-github",
        "colab_type": "text"
      },
      "source": [
        "<a href=\"https://colab.research.google.com/github/Harish-Arun/ML-Practice/blob/main/Sample_Linear_regression.ipynb\" target=\"_parent\"><img src=\"https://colab.research.google.com/assets/colab-badge.svg\" alt=\"Open In Colab\"/></a>"
      ]
    },
    {
      "cell_type": "code",
      "execution_count": null,
      "metadata": {
        "id": "tsgsTAYZ3-br"
      },
      "outputs": [],
      "source": [
        "import matplotlib.pyplot as plt\n",
        "import numpy as np\n",
        "import pandas as pd\n",
        "from sklearn import datasets"
      ]
    },
    {
      "cell_type": "code",
      "source": [
        "iris=datasets.load_diabetes(return_X_y=True)\n",
        "#taking 1st feature \n",
        "X=iris[0][:,np.newaxis,2]\n",
        "print(X.shape)\n",
        "Y=iris[1]"
      ],
      "metadata": {
        "colab": {
          "base_uri": "https://localhost:8080/"
        },
        "id": "dTsdd3G54o1O",
        "outputId": "2429e2ce-8640-4664-d059-6617fbb0f5a0"
      },
      "execution_count": null,
      "outputs": [
        {
          "output_type": "stream",
          "name": "stdout",
          "text": [
            "(442, 1)\n"
          ]
        }
      ]
    },
    {
      "cell_type": "code",
      "source": [
        "from sklearn.model_selection import train_test_split\n",
        "X_train,X_test,Y_train,Y_test=train_test_split(X,Y)"
      ],
      "metadata": {
        "id": "qp9ECQUn5OAX"
      },
      "execution_count": null,
      "outputs": []
    },
    {
      "cell_type": "code",
      "source": [
        "print(X.size,X_train.size,X_test.size)\n",
        "print(Y.size,Y_train.size,Y_test.size)"
      ],
      "metadata": {
        "colab": {
          "base_uri": "https://localhost:8080/"
        },
        "id": "shDTN0m76feH",
        "outputId": "0a928da9-5a91-4d18-dd65-3bddc057d16a"
      },
      "execution_count": null,
      "outputs": [
        {
          "output_type": "stream",
          "name": "stdout",
          "text": [
            "442 331 111\n",
            "442 331 111\n"
          ]
        }
      ]
    },
    {
      "cell_type": "code",
      "source": [
        "from sklearn.linear_model import LinearRegression\n",
        "lr=LinearRegression()\n",
        "lr.fit(X_train,Y_train)\n",
        "\n",
        "prediction=lr.predict(X_test)\n",
        "print(prediction,prediction.size)"
      ],
      "metadata": {
        "colab": {
          "base_uri": "https://localhost:8080/"
        },
        "id": "WfyzQhks6ma3",
        "outputId": "36d82191-d0a4-4075-cef4-c28ceef3b114"
      },
      "execution_count": null,
      "outputs": [
        {
          "output_type": "stream",
          "name": "stdout",
          "text": [
            "[ 97.5298523   91.46039027 195.65282175 183.51389769 147.09712552\n",
            " 121.80770041 209.81489981 107.64562234 212.84963083 209.81489981\n",
            " 100.56458331 188.57178272 140.01608649 129.90031644 147.09712552\n",
            " 108.65719935 143.05081751 148.10870253 137.99293248 150.13185654\n",
            " 114.72666137 150.13185654 204.75701479 153.16658755  88.42565925\n",
            " 117.76139239 170.36339663 122.81927741 108.65719935 136.98135548\n",
            " 123.83085442 157.21289557 184.5254747  123.83085442 202.73386078\n",
            " 156.20131857 149.12027953 132.93504746 144.06239451  86.40250524\n",
            "  83.36777423 130.91189345 201.72228378 167.32866562 163.2823576\n",
            " 147.09712552 195.65282175 174.40970465 155.18974156 108.65719935\n",
            " 240.16220995 108.65719935 108.65719935 207.7917458  113.71508437\n",
            " 242.18536396 115.73823838 178.45601267 204.75701479 153.16658755\n",
            " 128.88873944  95.50669829 216.89593885 123.83085442 140.01608649\n",
            " 170.36339663 176.43285866 167.32866562 136.98135548  85.39092824\n",
            " 180.47916668 137.99293248  77.2983122  139.00450949 142.0392405\n",
            " 120.7961234  219.93066986 207.7917458  170.36339663 149.12027953\n",
            " 141.0276635  208.80332281  98.5414293  162.27078059 207.7917458\n",
            " 154.17816456 158.22447258  97.5298523  202.73386078 123.83085442\n",
            " 120.7961234  144.06239451 158.22447258 121.80770041 166.31708861\n",
            " 116.74981538 161.25920359 118.77296939 120.7961234  153.16658755\n",
            " 127.87716244  79.32146621 117.76139239  93.48354428  90.44881326\n",
            " 144.06239451 132.93504746 117.76139239 124.84243142 115.73823838\n",
            " 127.87716244] 111\n"
          ]
        }
      ]
    },
    {
      "cell_type": "code",
      "source": [
        "from sklearn.metrics import mean_squared_error,r2_score"
      ],
      "metadata": {
        "id": "wjbtztgE85XX"
      },
      "execution_count": null,
      "outputs": []
    },
    {
      "cell_type": "code",
      "source": [
        "print(\"Coefficient: \",lr.coef_)\n",
        "print(\"MSE \",mean_squared_error(Y_test,prediction))\n",
        "print(\"Coefficient of determination: \",r2_score(Y_test,prediction))"
      ],
      "metadata": {
        "colab": {
          "base_uri": "https://localhost:8080/"
        },
        "id": "F6SxXpRT7xnO",
        "outputId": "1cda59ca-65cc-44e1-8138-3c3152d93b70"
      },
      "execution_count": null,
      "outputs": [
        {
          "output_type": "stream",
          "name": "stdout",
          "text": [
            "Coefficient:  [938.54673666]\n",
            "MSE  3674.5972724497246\n",
            "Coefficient of determination:  0.30804841925233717\n"
          ]
        }
      ]
    },
    {
      "cell_type": "code",
      "source": [
        "plt.scatter(X_test,Y_test,color=\"blue\")\n",
        "plt.plot(X_test,prediction,color=\"red\",linewidth=3)"
      ],
      "metadata": {
        "colab": {
          "base_uri": "https://localhost:8080/",
          "height": 447
        },
        "id": "0dtSJExm8Kh2",
        "outputId": "df41e98c-ec2b-4753-e921-c98430ee68d7"
      },
      "execution_count": null,
      "outputs": [
        {
          "output_type": "execute_result",
          "data": {
            "text/plain": [
              "[<matplotlib.lines.Line2D at 0x7f579e405c00>]"
            ]
          },
          "metadata": {},
          "execution_count": 65
        },
        {
          "output_type": "display_data",
          "data": {
            "text/plain": [
              "<Figure size 640x480 with 1 Axes>"
            ],
            "image/png": "[encoded data removed]"
          },
          "metadata": {}
        }
      ]
    },
    {
      "cell_type": "markdown",
      "source": [
        "https://github.com/soup-stix/Machine-Learning"
      ],
      "metadata": {
        "id": "FGfL9iGmJo7K"
      }
    },
    {
      "cell_type": "code",
      "source": [],
      "metadata": {
        "id": "OdmU_hVrJq6U"
      },
      "execution_count": null,
      "outputs": []
    }
  ]
}