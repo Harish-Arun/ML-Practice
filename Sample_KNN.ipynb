{
  "nbformat": 4,
  "nbformat_minor": 0,
  "metadata": {
    "colab": {
      "provenance": [],
      "authorship_tag": "ABX9TyOZuJoalcceAauSkpqbCiIE",
      "include_colab_link": true
    },
    "kernelspec": {
      "name": "python3",
      "display_name": "Python 3"
    },
    "language_info": {
      "name": "python"
    }
  },
  "cells": [
    {
      "cell_type": "markdown",
      "metadata": {
        "id": "view-in-github",
        "colab_type": "text"
      },
      "source": [
        "<a href=\"https://colab.research.google.com/github/Harish-Arun/ML-Practice/blob/main/Sample_KNN.ipynb\" target=\"_parent\"><img src=\"https://colab.research.google.com/assets/colab-badge.svg\" alt=\"Open In Colab\"/></a>"
      ]
    },
    {
      "cell_type": "code",
      "execution_count": 1,
      "metadata": {
        "id": "Bceebtu2zE0Q"
      },
      "outputs": [],
      "source": [
        "import matplotlib.pyplot as plt\n",
        "import pandas as pd\n",
        "import numpy as np\n",
        "from sklearn import datasets"
      ]
    },
    {
      "cell_type": "code",
      "source": [
        "iris=datasets.load_iris()\n",
        "X=iris.data\n",
        "Y=iris.target"
      ],
      "metadata": {
        "id": "phfo9vNVzVIF"
      },
      "execution_count": 2,
      "outputs": []
    },
    {
      "cell_type": "code",
      "source": [
        "from sklearn.model_selection import train_test_split\n",
        "X_train,X_test,Y_train,Y_test=train_test_split(X,Y,train_size=0.2)"
      ],
      "metadata": {
        "id": "JHVTn_8TzlT0"
      },
      "execution_count": 3,
      "outputs": []
    },
    {
      "cell_type": "code",
      "source": [
        "from sklearn.neighbors import KNeighborsClassifier\n",
        "knn=KNeighborsClassifier()\n",
        "knn.fit(X_train,Y_train)\n",
        "pred=knn.predict(X_test)"
      ],
      "metadata": {
        "id": "6BiRRH5Pz2Lk"
      },
      "execution_count": 10,
      "outputs": []
    },
    {
      "cell_type": "code",
      "source": [
        "from sklearn.metrics import accuracy_score,classification_report,confusion_matrix\n",
        "\n",
        "print(\"Accuracy Scores \",accuracy_score(Y_test,pred))\n",
        "print(\"Classification Report\\n\",classification_report(Y_test,pred))\n",
        "print(\"Confusion Matrix\\n\",confusion_matrix(Y_test,pred))"
      ],
      "metadata": {
        "colab": {
          "base_uri": "https://localhost:8080/"
        },
        "id": "ijDh07ETz41U",
        "outputId": "6fd7e899-3d49-4b81-d3f5-da825f67b39c"
      },
      "execution_count": 13,
      "outputs": [
        {
          "output_type": "stream",
          "name": "stdout",
          "text": [
            "Accuracy Scores  0.9416666666666667\n",
            "Classification Report\n",
            "               precision    recall  f1-score   support\n",
            "\n",
            "           0       1.00      1.00      1.00        35\n",
            "           1       1.00      0.84      0.92        45\n",
            "           2       0.85      1.00      0.92        40\n",
            "\n",
            "    accuracy                           0.94       120\n",
            "   macro avg       0.95      0.95      0.95       120\n",
            "weighted avg       0.95      0.94      0.94       120\n",
            "\n",
            "Confusion Matrix\n",
            " [[35  0  0]\n",
            " [ 0 38  7]\n",
            " [ 0  0 40]]\n"
          ]
        }
      ]
    }
  ]
}